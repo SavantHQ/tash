{
 "cells": [
  {
   "cell_type": "code",
   "execution_count": 2,
   "metadata": {},
   "outputs": [],
   "source": [
    "import libsql_client\n",
    "\n",
    "client = libsql_client.create_client_sync(\n",
    "    url=\"http://127.0.0.1:8080\"\n",
    ")\n"
   ]
  },
  {
   "cell_type": "code",
   "execution_count": 5,
   "metadata": {},
   "outputs": [],
   "source": [
    "from sqlmodel import Field, SQLModel, create_engine\n",
    "from datetime import datetime\n",
    "from typing import Optional\n",
    "\n",
    "class Course(SQLModel, table=True):\n",
    "    id: Optional[int] = Field(default=None, primary_key=True)\n",
    "    title: str = Field(max_length=255)\n",
    "    author: str = Field(max_length=100)\n",
    "    date_published: datetime\n",
    "    version: Optional[str] = Field(default=None, max_length=20)\n",
    "    summary: Optional[str] = None\n",
    "    duration_minutes: Optional[int] = None\n",
    "    difficulty_level: Optional[str] = Field(default=None, max_length=20)\n",
    "    is_published: bool = Field(default=False)\n",
    "    created_at: datetime = Field(default_factory=datetime.utcnow)\n",
    "    updated_at: datetime = Field(default_factory=datetime.utcnow)\n",
    "\n",
    "# For local libsql database\n",
    "engine = create_engine(\"sqlite:///local.db\", echo=True)"
   ]
  },
  {
   "cell_type": "code",
   "execution_count": 6,
   "metadata": {},
   "outputs": [
    {
     "data": {
      "text/plain": [
       "Engine(sqlite:///local.db)"
      ]
     },
     "execution_count": 6,
     "metadata": {},
     "output_type": "execute_result"
    }
   ],
   "source": [
    "engine"
   ]
  },
  {
   "cell_type": "code",
   "execution_count": 7,
   "metadata": {},
   "outputs": [
    {
     "name": "stdout",
     "output_type": "stream",
     "text": [
      "2024-10-29 15:20:38,485 INFO sqlalchemy.engine.Engine BEGIN (implicit)\n",
      "2024-10-29 15:20:38,486 INFO sqlalchemy.engine.Engine PRAGMA main.table_info(\"course\")\n",
      "2024-10-29 15:20:38,486 INFO sqlalchemy.engine.Engine [raw sql] ()\n",
      "2024-10-29 15:20:38,487 INFO sqlalchemy.engine.Engine PRAGMA temp.table_info(\"course\")\n",
      "2024-10-29 15:20:38,488 INFO sqlalchemy.engine.Engine [raw sql] ()\n",
      "2024-10-29 15:20:38,489 INFO sqlalchemy.engine.Engine \n",
      "CREATE TABLE course (\n",
      "\tid INTEGER NOT NULL, \n",
      "\ttitle VARCHAR(255) NOT NULL, \n",
      "\tauthor VARCHAR(100) NOT NULL, \n",
      "\tdate_published DATETIME NOT NULL, \n",
      "\tversion VARCHAR(20), \n",
      "\tsummary VARCHAR, \n",
      "\tduration_minutes INTEGER, \n",
      "\tdifficulty_level VARCHAR(20), \n",
      "\tis_published BOOLEAN NOT NULL, \n",
      "\tcreated_at DATETIME NOT NULL, \n",
      "\tupdated_at DATETIME NOT NULL, \n",
      "\tPRIMARY KEY (id)\n",
      ")\n",
      "\n",
      "\n",
      "2024-10-29 15:20:38,489 INFO sqlalchemy.engine.Engine [no key 0.00050s] ()\n",
      "2024-10-29 15:20:38,491 INFO sqlalchemy.engine.Engine COMMIT\n"
     ]
    }
   ],
   "source": [
    "SQLModel.metadata.create_all(engine)"
   ]
  },
  {
   "cell_type": "code",
   "execution_count": 9,
   "metadata": {},
   "outputs": [],
   "source": [
    "from sqlmodel import Session\n",
    "from datetime import datetime"
   ]
  },
  {
   "cell_type": "code",
   "execution_count": 10,
   "metadata": {},
   "outputs": [],
   "source": [
    "courses = [\n",
    "    Course(\n",
    "        title=\"Python for Data Science\",\n",
    "        author=\"Sarah Chen\",\n",
    "        date_published=datetime(2024, 1, 15),\n",
    "        version=\"2.1\",\n",
    "        summary=\"Master data analysis and visualization with Python\",\n",
    "        duration_minutes=240,\n",
    "        difficulty_level=\"Intermediate\",\n",
    "        is_published=True\n",
    "    ),\n",
    "    Course(\n",
    "        title=\"Web Development Fundamentals\",\n",
    "        author=\"Michael Rodriguez\",\n",
    "        date_published=datetime(2024, 2, 1),\n",
    "        version=\"1.0\",\n",
    "        summary=\"Learn HTML, CSS, and JavaScript basics\",\n",
    "        duration_minutes=180,\n",
    "        difficulty_level=\"Beginner\",\n",
    "        is_published=True\n",
    "    ),\n",
    "    Course(\n",
    "        title=\"Advanced Machine Learning\",\n",
    "        author=\"Dr. Emily Watson\",\n",
    "        date_published=datetime(2024, 2, 20),\n",
    "        version=\"3.0\",\n",
    "        summary=\"Deep dive into neural networks and advanced ML concepts\",\n",
    "        duration_minutes=360,\n",
    "        difficulty_level=\"Advanced\",\n",
    "        is_published=True\n",
    "    ),\n",
    "    Course(\n",
    "        title=\"Docker for Developers\",\n",
    "        author=\"James Smith\",\n",
    "        date_published=datetime(2024, 3, 1),\n",
    "        version=\"2.0\",\n",
    "        summary=\"Container basics to deployment strategies\",\n",
    "        duration_minutes=150,\n",
    "        difficulty_level=\"Intermediate\",\n",
    "        is_published=True\n",
    "    ),\n",
    "    Course(\n",
    "        title=\"Mobile App Design\",\n",
    "        author=\"Lisa Wong\",\n",
    "        date_published=datetime(2024, 3, 10),\n",
    "        version=\"1.5\",\n",
    "        summary=\"UI/UX principles for mobile applications\",\n",
    "        duration_minutes=200,\n",
    "        difficulty_level=\"Beginner\",\n",
    "        is_published=True\n",
    "    ),\n",
    "    Course(\n",
    "        title=\"Blockchain Development\",\n",
    "        author=\"Alex Kumar\",\n",
    "        date_published=datetime(2024, 1, 30),\n",
    "        version=\"2.2\",\n",
    "        summary=\"Build decentralized applications with Ethereum\",\n",
    "        duration_minutes=280,\n",
    "        difficulty_level=\"Advanced\",\n",
    "        is_published=True\n",
    "    ),\n",
    "    Course(\n",
    "        title=\"Cloud Architecture on AWS\",\n",
    "        author=\"Robert Martinez\",\n",
    "        date_published=datetime(2024, 2, 15),\n",
    "        version=\"4.0\",\n",
    "        summary=\"Design and implement scalable cloud solutions\",\n",
    "        duration_minutes=320,\n",
    "        difficulty_level=\"Advanced\",\n",
    "        is_published=True\n",
    "    ),\n",
    "    Course(\n",
    "        title=\"JavaScript Framework Mastery\",\n",
    "        author=\"Nina Patel\",\n",
    "        date_published=datetime(2024, 3, 5),\n",
    "        version=\"1.0\",\n",
    "        summary=\"Deep dive into React, Vue, and Angular\",\n",
    "        duration_minutes=400,\n",
    "        difficulty_level=\"Intermediate\",\n",
    "        is_published=True\n",
    "    ),\n",
    "    Course(\n",
    "        title=\"Cybersecurity Basics\",\n",
    "        author=\"David Wilson\",\n",
    "        date_published=datetime(2024, 2, 10),\n",
    "        version=\"2.0\",\n",
    "        summary=\"Essential security concepts and best practices\",\n",
    "        duration_minutes=240,\n",
    "        difficulty_level=\"Beginner\",\n",
    "        is_published=True\n",
    "    ),\n",
    "    Course(\n",
    "        title=\"DevOps Engineering\",\n",
    "        author=\"Maria Garcia\",\n",
    "        date_published=datetime(2024, 3, 15),\n",
    "        version=\"3.1\",\n",
    "        summary=\"CI/CD pipelines and infrastructure automation\",\n",
    "        duration_minutes=300,\n",
    "        difficulty_level=\"Advanced\",\n",
    "        is_published=True\n",
    "    )\n",
    "]\n"
   ]
  },
  {
   "cell_type": "code",
   "execution_count": 11,
   "metadata": {},
   "outputs": [
    {
     "name": "stdout",
     "output_type": "stream",
     "text": [
      "2024-10-29 15:23:56,069 INFO sqlalchemy.engine.Engine BEGIN (implicit)\n",
      "2024-10-29 15:23:56,072 INFO sqlalchemy.engine.Engine INSERT INTO course (title, author, date_published, version, summary, duration_minutes, difficulty_level, is_published, created_at, updated_at) VALUES (?, ?, ?, ?, ?, ?, ?, ?, ?, ?) RETURNING id\n",
      "2024-10-29 15:23:56,072 INFO sqlalchemy.engine.Engine [generated in 0.00023s (insertmanyvalues) 1/10 (ordered; batch not supported)] ('Python for Data Science', 'Sarah Chen', '2024-01-15 00:00:00.000000', '2.1', 'Master data analysis and visualization with Python', 240, 'Intermediate', 1, '2024-10-29 04:23:51.149096', '2024-10-29 04:23:51.149099')\n",
      "2024-10-29 15:23:56,072 INFO sqlalchemy.engine.Engine INSERT INTO course (title, author, date_published, version, summary, duration_minutes, difficulty_level, is_published, created_at, updated_at) VALUES (?, ?, ?, ?, ?, ?, ?, ?, ?, ?) RETURNING id\n",
      "2024-10-29 15:23:56,073 INFO sqlalchemy.engine.Engine [insertmanyvalues 2/10 (ordered; batch not supported)] ('Web Development Fundamentals', 'Michael Rodriguez', '2024-02-01 00:00:00.000000', '1.0', 'Learn HTML, CSS, and JavaScript basics', 180, 'Beginner', 1, '2024-10-29 04:23:51.149220', '2024-10-29 04:23:51.149221')\n",
      "2024-10-29 15:23:56,073 INFO sqlalchemy.engine.Engine INSERT INTO course (title, author, date_published, version, summary, duration_minutes, difficulty_level, is_published, created_at, updated_at) VALUES (?, ?, ?, ?, ?, ?, ?, ?, ?, ?) RETURNING id\n",
      "2024-10-29 15:23:56,073 INFO sqlalchemy.engine.Engine [insertmanyvalues 3/10 (ordered; batch not supported)] ('Advanced Machine Learning', 'Dr. Emily Watson', '2024-02-20 00:00:00.000000', '3.0', 'Deep dive into neural networks and advanced ML concepts', 360, 'Advanced', 1, '2024-10-29 04:23:51.149282', '2024-10-29 04:23:51.149283')\n",
      "2024-10-29 15:23:56,074 INFO sqlalchemy.engine.Engine INSERT INTO course (title, author, date_published, version, summary, duration_minutes, difficulty_level, is_published, created_at, updated_at) VALUES (?, ?, ?, ?, ?, ?, ?, ?, ?, ?) RETURNING id\n",
      "2024-10-29 15:23:56,075 INFO sqlalchemy.engine.Engine [insertmanyvalues 4/10 (ordered; batch not supported)] ('Docker for Developers', 'James Smith', '2024-03-01 00:00:00.000000', '2.0', 'Container basics to deployment strategies', 150, 'Intermediate', 1, '2024-10-29 04:23:51.149336', '2024-10-29 04:23:51.149337')\n",
      "2024-10-29 15:23:56,075 INFO sqlalchemy.engine.Engine INSERT INTO course (title, author, date_published, version, summary, duration_minutes, difficulty_level, is_published, created_at, updated_at) VALUES (?, ?, ?, ?, ?, ?, ?, ?, ?, ?) RETURNING id\n",
      "2024-10-29 15:23:56,075 INFO sqlalchemy.engine.Engine [insertmanyvalues 5/10 (ordered; batch not supported)] ('Mobile App Design', 'Lisa Wong', '2024-03-10 00:00:00.000000', '1.5', 'UI/UX principles for mobile applications', 200, 'Beginner', 1, '2024-10-29 04:23:51.149384', '2024-10-29 04:23:51.149385')\n",
      "2024-10-29 15:23:56,076 INFO sqlalchemy.engine.Engine INSERT INTO course (title, author, date_published, version, summary, duration_minutes, difficulty_level, is_published, created_at, updated_at) VALUES (?, ?, ?, ?, ?, ?, ?, ?, ?, ?) RETURNING id\n",
      "2024-10-29 15:23:56,076 INFO sqlalchemy.engine.Engine [insertmanyvalues 6/10 (ordered; batch not supported)] ('Blockchain Development', 'Alex Kumar', '2024-01-30 00:00:00.000000', '2.2', 'Build decentralized applications with Ethereum', 280, 'Advanced', 1, '2024-10-29 04:23:51.149429', '2024-10-29 04:23:51.149430')\n",
      "2024-10-29 15:23:56,077 INFO sqlalchemy.engine.Engine INSERT INTO course (title, author, date_published, version, summary, duration_minutes, difficulty_level, is_published, created_at, updated_at) VALUES (?, ?, ?, ?, ?, ?, ?, ?, ?, ?) RETURNING id\n",
      "2024-10-29 15:23:56,077 INFO sqlalchemy.engine.Engine [insertmanyvalues 7/10 (ordered; batch not supported)] ('Cloud Architecture on AWS', 'Robert Martinez', '2024-02-15 00:00:00.000000', '4.0', 'Design and implement scalable cloud solutions', 320, 'Advanced', 1, '2024-10-29 04:23:51.149474', '2024-10-29 04:23:51.149475')\n",
      "2024-10-29 15:23:56,077 INFO sqlalchemy.engine.Engine INSERT INTO course (title, author, date_published, version, summary, duration_minutes, difficulty_level, is_published, created_at, updated_at) VALUES (?, ?, ?, ?, ?, ?, ?, ?, ?, ?) RETURNING id\n",
      "2024-10-29 15:23:56,077 INFO sqlalchemy.engine.Engine [insertmanyvalues 8/10 (ordered; batch not supported)] ('JavaScript Framework Mastery', 'Nina Patel', '2024-03-05 00:00:00.000000', '1.0', 'Deep dive into React, Vue, and Angular', 400, 'Intermediate', 1, '2024-10-29 04:23:51.149518', '2024-10-29 04:23:51.149519')\n",
      "2024-10-29 15:23:56,078 INFO sqlalchemy.engine.Engine INSERT INTO course (title, author, date_published, version, summary, duration_minutes, difficulty_level, is_published, created_at, updated_at) VALUES (?, ?, ?, ?, ?, ?, ?, ?, ?, ?) RETURNING id\n",
      "2024-10-29 15:23:56,078 INFO sqlalchemy.engine.Engine [insertmanyvalues 9/10 (ordered; batch not supported)] ('Cybersecurity Basics', 'David Wilson', '2024-02-10 00:00:00.000000', '2.0', 'Essential security concepts and best practices', 240, 'Beginner', 1, '2024-10-29 04:23:51.149559', '2024-10-29 04:23:51.149560')\n",
      "2024-10-29 15:23:56,078 INFO sqlalchemy.engine.Engine INSERT INTO course (title, author, date_published, version, summary, duration_minutes, difficulty_level, is_published, created_at, updated_at) VALUES (?, ?, ?, ?, ?, ?, ?, ?, ?, ?) RETURNING id\n",
      "2024-10-29 15:23:56,079 INFO sqlalchemy.engine.Engine [insertmanyvalues 10/10 (ordered; batch not supported)] ('DevOps Engineering', 'Maria Garcia', '2024-03-15 00:00:00.000000', '3.1', 'CI/CD pipelines and infrastructure automation', 300, 'Advanced', 1, '2024-10-29 04:23:51.149601', '2024-10-29 04:23:51.149602')\n",
      "2024-10-29 15:23:56,080 INFO sqlalchemy.engine.Engine COMMIT\n"
     ]
    }
   ],
   "source": [
    "with Session(engine) as session:\n",
    "    session.add_all(courses)\n",
    "    session.commit()"
   ]
  },
  {
   "cell_type": "code",
   "execution_count": 13,
   "metadata": {},
   "outputs": [],
   "source": [
    "from sqlmodel import select"
   ]
  },
  {
   "cell_type": "code",
   "execution_count": 14,
   "metadata": {},
   "outputs": [
    {
     "name": "stdout",
     "output_type": "stream",
     "text": [
      "2024-10-29 15:25:09,854 INFO sqlalchemy.engine.Engine BEGIN (implicit)\n",
      "2024-10-29 15:25:09,860 INFO sqlalchemy.engine.Engine SELECT course.id, course.title, course.author, course.date_published, course.version, course.summary, course.duration_minutes, course.difficulty_level, course.is_published, course.created_at, course.updated_at \n",
      "FROM course\n",
      "2024-10-29 15:25:09,861 INFO sqlalchemy.engine.Engine [generated in 0.00153s] ()\n",
      "Python for Data Science by Sarah Chen\n",
      "Web Development Fundamentals by Michael Rodriguez\n",
      "Advanced Machine Learning by Dr. Emily Watson\n",
      "Docker for Developers by James Smith\n",
      "Mobile App Design by Lisa Wong\n",
      "Blockchain Development by Alex Kumar\n",
      "Cloud Architecture on AWS by Robert Martinez\n",
      "JavaScript Framework Mastery by Nina Patel\n",
      "Cybersecurity Basics by David Wilson\n",
      "DevOps Engineering by Maria Garcia\n",
      "2024-10-29 15:25:09,865 INFO sqlalchemy.engine.Engine ROLLBACK\n"
     ]
    }
   ],
   "source": [
    "with Session(engine) as session:\n",
    "    statement = select(Course)\n",
    "    courses = session.exec(statement).all()\n",
    "    for course in courses:\n",
    "        print(f\"{course.title} by {course.author}\")"
   ]
  },
  {
   "cell_type": "code",
   "execution_count": null,
   "metadata": {},
   "outputs": [],
   "source": []
  }
 ],
 "metadata": {
  "kernelspec": {
   "display_name": ".venv",
   "language": "python",
   "name": "python3"
  },
  "language_info": {
   "codemirror_mode": {
    "name": "ipython",
    "version": 3
   },
   "file_extension": ".py",
   "mimetype": "text/x-python",
   "name": "python",
   "nbconvert_exporter": "python",
   "pygments_lexer": "ipython3",
   "version": "3.12.2"
  }
 },
 "nbformat": 4,
 "nbformat_minor": 2
}
